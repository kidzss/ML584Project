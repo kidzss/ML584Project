{
 "cells": [
  {
   "cell_type": "code",
   "execution_count": 1,
   "metadata": {},
   "outputs": [],
   "source": [
    "import pandas as pd\n",
    "import numpy as np"
   ]
  },
  {
   "cell_type": "markdown",
   "metadata": {},
   "source": [
    "# 加载数据"
   ]
  },
  {
   "cell_type": "code",
   "execution_count": 2,
   "metadata": {},
   "outputs": [
    {
     "ename": "FileNotFoundError",
     "evalue": "[Errno 2] File user_register.csv does not exist: 'user_register.csv'",
     "output_type": "error",
     "traceback": [
      "\u001b[0;31m---------------------------------------------------------------------------\u001b[0m",
      "\u001b[0;31mFileNotFoundError\u001b[0m                         Traceback (most recent call last)",
      "\u001b[0;32m<ipython-input-2-b301a4293e24>\u001b[0m in \u001b[0;36m<module>\u001b[0;34m\u001b[0m\n\u001b[1;32m      1\u001b[0m \u001b[0morders\u001b[0m\u001b[0;34m=\u001b[0m\u001b[0mpd\u001b[0m\u001b[0;34m.\u001b[0m\u001b[0mread_csv\u001b[0m\u001b[0;34m(\u001b[0m\u001b[0;34m\"orders.csv\"\u001b[0m\u001b[0;34m,\u001b[0m\u001b[0mkeep_default_na\u001b[0m\u001b[0;34m=\u001b[0m\u001b[0;32mFalse\u001b[0m\u001b[0;34m,\u001b[0m\u001b[0mna_filter\u001b[0m\u001b[0;34m=\u001b[0m\u001b[0;32mTrue\u001b[0m\u001b[0;34m)\u001b[0m\u001b[0;34m\u001b[0m\u001b[0;34m\u001b[0m\u001b[0m\n\u001b[0;32m----> 2\u001b[0;31m \u001b[0musers\u001b[0m\u001b[0;34m=\u001b[0m\u001b[0mpd\u001b[0m\u001b[0;34m.\u001b[0m\u001b[0mread_csv\u001b[0m\u001b[0;34m(\u001b[0m\u001b[0;34m\"user_register.csv\"\u001b[0m\u001b[0;34m,\u001b[0m\u001b[0mkeep_default_na\u001b[0m\u001b[0;34m=\u001b[0m\u001b[0;32mFalse\u001b[0m\u001b[0;34m,\u001b[0m\u001b[0mna_filter\u001b[0m\u001b[0;34m=\u001b[0m\u001b[0;32mTrue\u001b[0m\u001b[0;34m)\u001b[0m\u001b[0;34m\u001b[0m\u001b[0;34m\u001b[0m\u001b[0m\n\u001b[0m\u001b[1;32m      3\u001b[0m \u001b[0mbrowsing_times\u001b[0m\u001b[0;34m=\u001b[0m\u001b[0mpd\u001b[0m\u001b[0;34m.\u001b[0m\u001b[0mread_csv\u001b[0m\u001b[0;34m(\u001b[0m\u001b[0;34m\"browsing_times.csv\"\u001b[0m\u001b[0;34m,\u001b[0m\u001b[0mkeep_default_na\u001b[0m\u001b[0;34m=\u001b[0m\u001b[0;32mFalse\u001b[0m\u001b[0;34m,\u001b[0m\u001b[0mna_filter\u001b[0m\u001b[0;34m=\u001b[0m\u001b[0;32mTrue\u001b[0m\u001b[0;34m)\u001b[0m\u001b[0;34m\u001b[0m\u001b[0;34m\u001b[0m\u001b[0m\n\u001b[1;32m      4\u001b[0m \u001b[0mflight_refund_rate\u001b[0m\u001b[0;34m=\u001b[0m\u001b[0mpd\u001b[0m\u001b[0;34m.\u001b[0m\u001b[0mread_csv\u001b[0m\u001b[0;34m(\u001b[0m\u001b[0;34m\"flight_refund_rate_tab.csv\"\u001b[0m\u001b[0;34m,\u001b[0m\u001b[0mkeep_default_na\u001b[0m\u001b[0;34m=\u001b[0m\u001b[0;32mFalse\u001b[0m\u001b[0;34m,\u001b[0m\u001b[0mna_filter\u001b[0m\u001b[0;34m=\u001b[0m\u001b[0;32mTrue\u001b[0m\u001b[0;34m)\u001b[0m\u001b[0;34m\u001b[0m\u001b[0;34m\u001b[0m\u001b[0m\n",
      "\u001b[0;32m/opt/anaconda3/lib/python3.8/site-packages/pandas/io/parsers.py\u001b[0m in \u001b[0;36mparser_f\u001b[0;34m(filepath_or_buffer, sep, delimiter, header, names, index_col, usecols, squeeze, prefix, mangle_dupe_cols, dtype, engine, converters, true_values, false_values, skipinitialspace, skiprows, skipfooter, nrows, na_values, keep_default_na, na_filter, verbose, skip_blank_lines, parse_dates, infer_datetime_format, keep_date_col, date_parser, dayfirst, cache_dates, iterator, chunksize, compression, thousands, decimal, lineterminator, quotechar, quoting, doublequote, escapechar, comment, encoding, dialect, error_bad_lines, warn_bad_lines, delim_whitespace, low_memory, memory_map, float_precision)\u001b[0m\n\u001b[1;32m    674\u001b[0m         )\n\u001b[1;32m    675\u001b[0m \u001b[0;34m\u001b[0m\u001b[0m\n\u001b[0;32m--> 676\u001b[0;31m         \u001b[0;32mreturn\u001b[0m \u001b[0m_read\u001b[0m\u001b[0;34m(\u001b[0m\u001b[0mfilepath_or_buffer\u001b[0m\u001b[0;34m,\u001b[0m \u001b[0mkwds\u001b[0m\u001b[0;34m)\u001b[0m\u001b[0;34m\u001b[0m\u001b[0;34m\u001b[0m\u001b[0m\n\u001b[0m\u001b[1;32m    677\u001b[0m \u001b[0;34m\u001b[0m\u001b[0m\n\u001b[1;32m    678\u001b[0m     \u001b[0mparser_f\u001b[0m\u001b[0;34m.\u001b[0m\u001b[0m__name__\u001b[0m \u001b[0;34m=\u001b[0m \u001b[0mname\u001b[0m\u001b[0;34m\u001b[0m\u001b[0;34m\u001b[0m\u001b[0m\n",
      "\u001b[0;32m/opt/anaconda3/lib/python3.8/site-packages/pandas/io/parsers.py\u001b[0m in \u001b[0;36m_read\u001b[0;34m(filepath_or_buffer, kwds)\u001b[0m\n\u001b[1;32m    446\u001b[0m \u001b[0;34m\u001b[0m\u001b[0m\n\u001b[1;32m    447\u001b[0m     \u001b[0;31m# Create the parser.\u001b[0m\u001b[0;34m\u001b[0m\u001b[0;34m\u001b[0m\u001b[0;34m\u001b[0m\u001b[0m\n\u001b[0;32m--> 448\u001b[0;31m     \u001b[0mparser\u001b[0m \u001b[0;34m=\u001b[0m \u001b[0mTextFileReader\u001b[0m\u001b[0;34m(\u001b[0m\u001b[0mfp_or_buf\u001b[0m\u001b[0;34m,\u001b[0m \u001b[0;34m**\u001b[0m\u001b[0mkwds\u001b[0m\u001b[0;34m)\u001b[0m\u001b[0;34m\u001b[0m\u001b[0;34m\u001b[0m\u001b[0m\n\u001b[0m\u001b[1;32m    449\u001b[0m \u001b[0;34m\u001b[0m\u001b[0m\n\u001b[1;32m    450\u001b[0m     \u001b[0;32mif\u001b[0m \u001b[0mchunksize\u001b[0m \u001b[0;32mor\u001b[0m \u001b[0miterator\u001b[0m\u001b[0;34m:\u001b[0m\u001b[0;34m\u001b[0m\u001b[0;34m\u001b[0m\u001b[0m\n",
      "\u001b[0;32m/opt/anaconda3/lib/python3.8/site-packages/pandas/io/parsers.py\u001b[0m in \u001b[0;36m__init__\u001b[0;34m(self, f, engine, **kwds)\u001b[0m\n\u001b[1;32m    878\u001b[0m             \u001b[0mself\u001b[0m\u001b[0;34m.\u001b[0m\u001b[0moptions\u001b[0m\u001b[0;34m[\u001b[0m\u001b[0;34m\"has_index_names\"\u001b[0m\u001b[0;34m]\u001b[0m \u001b[0;34m=\u001b[0m \u001b[0mkwds\u001b[0m\u001b[0;34m[\u001b[0m\u001b[0;34m\"has_index_names\"\u001b[0m\u001b[0;34m]\u001b[0m\u001b[0;34m\u001b[0m\u001b[0;34m\u001b[0m\u001b[0m\n\u001b[1;32m    879\u001b[0m \u001b[0;34m\u001b[0m\u001b[0m\n\u001b[0;32m--> 880\u001b[0;31m         \u001b[0mself\u001b[0m\u001b[0;34m.\u001b[0m\u001b[0m_make_engine\u001b[0m\u001b[0;34m(\u001b[0m\u001b[0mself\u001b[0m\u001b[0;34m.\u001b[0m\u001b[0mengine\u001b[0m\u001b[0;34m)\u001b[0m\u001b[0;34m\u001b[0m\u001b[0;34m\u001b[0m\u001b[0m\n\u001b[0m\u001b[1;32m    881\u001b[0m \u001b[0;34m\u001b[0m\u001b[0m\n\u001b[1;32m    882\u001b[0m     \u001b[0;32mdef\u001b[0m \u001b[0mclose\u001b[0m\u001b[0;34m(\u001b[0m\u001b[0mself\u001b[0m\u001b[0;34m)\u001b[0m\u001b[0;34m:\u001b[0m\u001b[0;34m\u001b[0m\u001b[0;34m\u001b[0m\u001b[0m\n",
      "\u001b[0;32m/opt/anaconda3/lib/python3.8/site-packages/pandas/io/parsers.py\u001b[0m in \u001b[0;36m_make_engine\u001b[0;34m(self, engine)\u001b[0m\n\u001b[1;32m   1112\u001b[0m     \u001b[0;32mdef\u001b[0m \u001b[0m_make_engine\u001b[0m\u001b[0;34m(\u001b[0m\u001b[0mself\u001b[0m\u001b[0;34m,\u001b[0m \u001b[0mengine\u001b[0m\u001b[0;34m=\u001b[0m\u001b[0;34m\"c\"\u001b[0m\u001b[0;34m)\u001b[0m\u001b[0;34m:\u001b[0m\u001b[0;34m\u001b[0m\u001b[0;34m\u001b[0m\u001b[0m\n\u001b[1;32m   1113\u001b[0m         \u001b[0;32mif\u001b[0m \u001b[0mengine\u001b[0m \u001b[0;34m==\u001b[0m \u001b[0;34m\"c\"\u001b[0m\u001b[0;34m:\u001b[0m\u001b[0;34m\u001b[0m\u001b[0;34m\u001b[0m\u001b[0m\n\u001b[0;32m-> 1114\u001b[0;31m             \u001b[0mself\u001b[0m\u001b[0;34m.\u001b[0m\u001b[0m_engine\u001b[0m \u001b[0;34m=\u001b[0m \u001b[0mCParserWrapper\u001b[0m\u001b[0;34m(\u001b[0m\u001b[0mself\u001b[0m\u001b[0;34m.\u001b[0m\u001b[0mf\u001b[0m\u001b[0;34m,\u001b[0m \u001b[0;34m**\u001b[0m\u001b[0mself\u001b[0m\u001b[0;34m.\u001b[0m\u001b[0moptions\u001b[0m\u001b[0;34m)\u001b[0m\u001b[0;34m\u001b[0m\u001b[0;34m\u001b[0m\u001b[0m\n\u001b[0m\u001b[1;32m   1115\u001b[0m         \u001b[0;32melse\u001b[0m\u001b[0;34m:\u001b[0m\u001b[0;34m\u001b[0m\u001b[0;34m\u001b[0m\u001b[0m\n\u001b[1;32m   1116\u001b[0m             \u001b[0;32mif\u001b[0m \u001b[0mengine\u001b[0m \u001b[0;34m==\u001b[0m \u001b[0;34m\"python\"\u001b[0m\u001b[0;34m:\u001b[0m\u001b[0;34m\u001b[0m\u001b[0;34m\u001b[0m\u001b[0m\n",
      "\u001b[0;32m/opt/anaconda3/lib/python3.8/site-packages/pandas/io/parsers.py\u001b[0m in \u001b[0;36m__init__\u001b[0;34m(self, src, **kwds)\u001b[0m\n\u001b[1;32m   1889\u001b[0m         \u001b[0mkwds\u001b[0m\u001b[0;34m[\u001b[0m\u001b[0;34m\"usecols\"\u001b[0m\u001b[0;34m]\u001b[0m \u001b[0;34m=\u001b[0m \u001b[0mself\u001b[0m\u001b[0;34m.\u001b[0m\u001b[0musecols\u001b[0m\u001b[0;34m\u001b[0m\u001b[0;34m\u001b[0m\u001b[0m\n\u001b[1;32m   1890\u001b[0m \u001b[0;34m\u001b[0m\u001b[0m\n\u001b[0;32m-> 1891\u001b[0;31m         \u001b[0mself\u001b[0m\u001b[0;34m.\u001b[0m\u001b[0m_reader\u001b[0m \u001b[0;34m=\u001b[0m \u001b[0mparsers\u001b[0m\u001b[0;34m.\u001b[0m\u001b[0mTextReader\u001b[0m\u001b[0;34m(\u001b[0m\u001b[0msrc\u001b[0m\u001b[0;34m,\u001b[0m \u001b[0;34m**\u001b[0m\u001b[0mkwds\u001b[0m\u001b[0;34m)\u001b[0m\u001b[0;34m\u001b[0m\u001b[0;34m\u001b[0m\u001b[0m\n\u001b[0m\u001b[1;32m   1892\u001b[0m         \u001b[0mself\u001b[0m\u001b[0;34m.\u001b[0m\u001b[0munnamed_cols\u001b[0m \u001b[0;34m=\u001b[0m \u001b[0mself\u001b[0m\u001b[0;34m.\u001b[0m\u001b[0m_reader\u001b[0m\u001b[0;34m.\u001b[0m\u001b[0munnamed_cols\u001b[0m\u001b[0;34m\u001b[0m\u001b[0;34m\u001b[0m\u001b[0m\n\u001b[1;32m   1893\u001b[0m \u001b[0;34m\u001b[0m\u001b[0m\n",
      "\u001b[0;32mpandas/_libs/parsers.pyx\u001b[0m in \u001b[0;36mpandas._libs.parsers.TextReader.__cinit__\u001b[0;34m()\u001b[0m\n",
      "\u001b[0;32mpandas/_libs/parsers.pyx\u001b[0m in \u001b[0;36mpandas._libs.parsers.TextReader._setup_parser_source\u001b[0;34m()\u001b[0m\n",
      "\u001b[0;31mFileNotFoundError\u001b[0m: [Errno 2] File user_register.csv does not exist: 'user_register.csv'"
     ]
    }
   ],
   "source": [
    "orders=pd.read_csv(\"orders.csv\",keep_default_na=False,na_filter=True)\n",
    "users=pd.read_csv(\"user_register.csv\",keep_default_na=False,na_filter=True)\n",
    "browsing_times=pd.read_csv(\"browsing_times.csv\",keep_default_na=False,na_filter=True)\n",
    "flight_refund_rate=pd.read_csv(\"flight_refund_rate_tab.csv\",keep_default_na=False,na_filter=True)"
   ]
  },
  {
   "cell_type": "code",
   "execution_count": 5,
   "metadata": {},
   "outputs": [
    {
     "data": {
      "text/html": [
       "<div>\n",
       "<style scoped>\n",
       "    .dataframe tbody tr th:only-of-type {\n",
       "        vertical-align: middle;\n",
       "    }\n",
       "\n",
       "    .dataframe tbody tr th {\n",
       "        vertical-align: top;\n",
       "    }\n",
       "\n",
       "    .dataframe thead th {\n",
       "        text-align: right;\n",
       "    }\n",
       "</style>\n",
       "<table border=\"1\" class=\"dataframe\">\n",
       "  <thead>\n",
       "    <tr style=\"text-align: right;\">\n",
       "      <th></th>\n",
       "      <th>user_id</th>\n",
       "      <th>order_id</th>\n",
       "      <th>order_date</th>\n",
       "      <th>booking_date</th>\n",
       "      <th>order_status</th>\n",
       "      <th>dport</th>\n",
       "      <th>aport</th>\n",
       "      <th>dcity_code</th>\n",
       "      <th>acity_code</th>\n",
       "      <th>flight_time</th>\n",
       "      <th>flight_number</th>\n",
       "      <th>flight_date</th>\n",
       "      <th>flight_num_date</th>\n",
       "      <th>flag</th>\n",
       "    </tr>\n",
       "  </thead>\n",
       "  <tbody>\n",
       "    <tr>\n",
       "      <th>0</th>\n",
       "      <td>M92022363</td>\n",
       "      <td>D00000013</td>\n",
       "      <td>2022/1/1 1:12</td>\n",
       "      <td>2022/1/1 0:00</td>\n",
       "      <td>S</td>\n",
       "      <td>PEK</td>\n",
       "      <td>SYX</td>\n",
       "      <td>BJS</td>\n",
       "      <td>SYX</td>\n",
       "      <td>2022/1/1 14:35</td>\n",
       "      <td>CA1345</td>\n",
       "      <td>2022/1/1</td>\n",
       "      <td>CA1345_2022-01-01</td>\n",
       "      <td>0</td>\n",
       "    </tr>\n",
       "    <tr>\n",
       "      <th>1</th>\n",
       "      <td>M266512650</td>\n",
       "      <td>D00000015</td>\n",
       "      <td>2022/1/1 9:47</td>\n",
       "      <td>2022/1/1 0:00</td>\n",
       "      <td>S</td>\n",
       "      <td>PEK</td>\n",
       "      <td>SYX</td>\n",
       "      <td>BJS</td>\n",
       "      <td>SYX</td>\n",
       "      <td>2022/1/1 14:35</td>\n",
       "      <td>CA1345</td>\n",
       "      <td>2022/1/1</td>\n",
       "      <td>CA1345_2022-01-01</td>\n",
       "      <td>0</td>\n",
       "    </tr>\n",
       "    <tr>\n",
       "      <th>2</th>\n",
       "      <td>M141555821</td>\n",
       "      <td>D00000016</td>\n",
       "      <td>2022/1/1 9:53</td>\n",
       "      <td>2022/1/1 0:00</td>\n",
       "      <td>S</td>\n",
       "      <td>PEK</td>\n",
       "      <td>SYX</td>\n",
       "      <td>BJS</td>\n",
       "      <td>SYX</td>\n",
       "      <td>2022/1/1 14:35</td>\n",
       "      <td>CA1345</td>\n",
       "      <td>2022/1/1</td>\n",
       "      <td>CA1345_2022-01-01</td>\n",
       "      <td>0</td>\n",
       "    </tr>\n",
       "    <tr>\n",
       "      <th>3</th>\n",
       "      <td>M4691495608</td>\n",
       "      <td>D00000037</td>\n",
       "      <td>2022/1/1 20:29</td>\n",
       "      <td>2022/1/1 0:00</td>\n",
       "      <td>R</td>\n",
       "      <td>PEK</td>\n",
       "      <td>SYX</td>\n",
       "      <td>BJS</td>\n",
       "      <td>SYX</td>\n",
       "      <td>2022/1/1 14:35</td>\n",
       "      <td>CA1345</td>\n",
       "      <td>2022/1/1</td>\n",
       "      <td>CA1345_2022-01-01</td>\n",
       "      <td>0</td>\n",
       "    </tr>\n",
       "    <tr>\n",
       "      <th>4</th>\n",
       "      <td>M4135757873</td>\n",
       "      <td>D00000014</td>\n",
       "      <td>2022/1/1 9:43</td>\n",
       "      <td>2022/1/1 0:00</td>\n",
       "      <td>S</td>\n",
       "      <td>PEK</td>\n",
       "      <td>SYX</td>\n",
       "      <td>BJS</td>\n",
       "      <td>SYX</td>\n",
       "      <td>2022/1/1 14:35</td>\n",
       "      <td>CA1345</td>\n",
       "      <td>2022/1/1</td>\n",
       "      <td>CA1345_2022-01-01</td>\n",
       "      <td>0</td>\n",
       "    </tr>\n",
       "  </tbody>\n",
       "</table>\n",
       "</div>"
      ],
      "text/plain": [
       "       user_id   order_id      order_date   booking_date order_status dport  \\\n",
       "0    M92022363  D00000013   2022/1/1 1:12  2022/1/1 0:00            S   PEK   \n",
       "1   M266512650  D00000015   2022/1/1 9:47  2022/1/1 0:00            S   PEK   \n",
       "2   M141555821  D00000016   2022/1/1 9:53  2022/1/1 0:00            S   PEK   \n",
       "3  M4691495608  D00000037  2022/1/1 20:29  2022/1/1 0:00            R   PEK   \n",
       "4  M4135757873  D00000014   2022/1/1 9:43  2022/1/1 0:00            S   PEK   \n",
       "\n",
       "  aport dcity_code acity_code     flight_time flight_number  flight_date  \\\n",
       "0   SYX        BJS        SYX  2022/1/1 14:35        CA1345     2022/1/1   \n",
       "1   SYX        BJS        SYX  2022/1/1 14:35        CA1345     2022/1/1   \n",
       "2   SYX        BJS        SYX  2022/1/1 14:35        CA1345     2022/1/1   \n",
       "3   SYX        BJS        SYX  2022/1/1 14:35        CA1345     2022/1/1   \n",
       "4   SYX        BJS        SYX  2022/1/1 14:35        CA1345     2022/1/1   \n",
       "\n",
       "     flight_num_date  flag  \n",
       "0  CA1345_2022-01-01     0  \n",
       "1  CA1345_2022-01-01     0  \n",
       "2  CA1345_2022-01-01     0  \n",
       "3  CA1345_2022-01-01     0  \n",
       "4  CA1345_2022-01-01     0  "
      ]
     },
     "execution_count": 5,
     "metadata": {},
     "output_type": "execute_result"
    }
   ],
   "source": [
    "orders.head()"
   ]
  },
  {
   "cell_type": "code",
   "execution_count": 6,
   "metadata": {},
   "outputs": [
    {
     "data": {
      "text/plain": [
       "(1117, 14)"
      ]
     },
     "execution_count": 6,
     "metadata": {},
     "output_type": "execute_result"
    }
   ],
   "source": [
    "orders.shape"
   ]
  },
  {
   "cell_type": "markdown",
   "metadata": {},
   "source": [
    "# 将订单下单时间和订单表拼接起来"
   ]
  },
  {
   "cell_type": "code",
   "execution_count": 7,
   "metadata": {},
   "outputs": [],
   "source": [
    "result=pd.merge(orders,browsing_times,left_on=\"order_id\",right_on=\"order_id\",how=\"inner\")"
   ]
  },
  {
   "cell_type": "code",
   "execution_count": 8,
   "metadata": {},
   "outputs": [
    {
     "data": {
      "text/html": [
       "<div>\n",
       "<style scoped>\n",
       "    .dataframe tbody tr th:only-of-type {\n",
       "        vertical-align: middle;\n",
       "    }\n",
       "\n",
       "    .dataframe tbody tr th {\n",
       "        vertical-align: top;\n",
       "    }\n",
       "\n",
       "    .dataframe thead th {\n",
       "        text-align: right;\n",
       "    }\n",
       "</style>\n",
       "<table border=\"1\" class=\"dataframe\">\n",
       "  <thead>\n",
       "    <tr style=\"text-align: right;\">\n",
       "      <th></th>\n",
       "      <th>user_id</th>\n",
       "      <th>order_id</th>\n",
       "      <th>order_date</th>\n",
       "      <th>booking_date</th>\n",
       "      <th>order_status</th>\n",
       "      <th>dport</th>\n",
       "      <th>aport</th>\n",
       "      <th>dcity_code</th>\n",
       "      <th>acity_code</th>\n",
       "      <th>flight_time</th>\n",
       "      <th>flight_number</th>\n",
       "      <th>flight_date</th>\n",
       "      <th>flight_num_date</th>\n",
       "      <th>flag</th>\n",
       "      <th>browsing_time</th>\n",
       "    </tr>\n",
       "  </thead>\n",
       "  <tbody>\n",
       "    <tr>\n",
       "      <th>0</th>\n",
       "      <td>M92022363</td>\n",
       "      <td>D00000013</td>\n",
       "      <td>2022/1/1 1:12</td>\n",
       "      <td>2022/1/1 0:00</td>\n",
       "      <td>S</td>\n",
       "      <td>PEK</td>\n",
       "      <td>SYX</td>\n",
       "      <td>BJS</td>\n",
       "      <td>SYX</td>\n",
       "      <td>2022/1/1 14:35</td>\n",
       "      <td>CA1345</td>\n",
       "      <td>2022/1/1</td>\n",
       "      <td>CA1345_2022-01-01</td>\n",
       "      <td>0</td>\n",
       "      <td>78</td>\n",
       "    </tr>\n",
       "    <tr>\n",
       "      <th>1</th>\n",
       "      <td>M266512650</td>\n",
       "      <td>D00000015</td>\n",
       "      <td>2022/1/1 9:47</td>\n",
       "      <td>2022/1/1 0:00</td>\n",
       "      <td>S</td>\n",
       "      <td>PEK</td>\n",
       "      <td>SYX</td>\n",
       "      <td>BJS</td>\n",
       "      <td>SYX</td>\n",
       "      <td>2022/1/1 14:35</td>\n",
       "      <td>CA1345</td>\n",
       "      <td>2022/1/1</td>\n",
       "      <td>CA1345_2022-01-01</td>\n",
       "      <td>0</td>\n",
       "      <td>66</td>\n",
       "    </tr>\n",
       "    <tr>\n",
       "      <th>2</th>\n",
       "      <td>M141555821</td>\n",
       "      <td>D00000016</td>\n",
       "      <td>2022/1/1 9:53</td>\n",
       "      <td>2022/1/1 0:00</td>\n",
       "      <td>S</td>\n",
       "      <td>PEK</td>\n",
       "      <td>SYX</td>\n",
       "      <td>BJS</td>\n",
       "      <td>SYX</td>\n",
       "      <td>2022/1/1 14:35</td>\n",
       "      <td>CA1345</td>\n",
       "      <td>2022/1/1</td>\n",
       "      <td>CA1345_2022-01-01</td>\n",
       "      <td>0</td>\n",
       "      <td>61</td>\n",
       "    </tr>\n",
       "    <tr>\n",
       "      <th>3</th>\n",
       "      <td>M4691495608</td>\n",
       "      <td>D00000037</td>\n",
       "      <td>2022/1/1 20:29</td>\n",
       "      <td>2022/1/1 0:00</td>\n",
       "      <td>R</td>\n",
       "      <td>PEK</td>\n",
       "      <td>SYX</td>\n",
       "      <td>BJS</td>\n",
       "      <td>SYX</td>\n",
       "      <td>2022/1/1 14:35</td>\n",
       "      <td>CA1345</td>\n",
       "      <td>2022/1/1</td>\n",
       "      <td>CA1345_2022-01-01</td>\n",
       "      <td>0</td>\n",
       "      <td>51</td>\n",
       "    </tr>\n",
       "    <tr>\n",
       "      <th>4</th>\n",
       "      <td>M4135757873</td>\n",
       "      <td>D00000014</td>\n",
       "      <td>2022/1/1 9:43</td>\n",
       "      <td>2022/1/1 0:00</td>\n",
       "      <td>S</td>\n",
       "      <td>PEK</td>\n",
       "      <td>SYX</td>\n",
       "      <td>BJS</td>\n",
       "      <td>SYX</td>\n",
       "      <td>2022/1/1 14:35</td>\n",
       "      <td>CA1345</td>\n",
       "      <td>2022/1/1</td>\n",
       "      <td>CA1345_2022-01-01</td>\n",
       "      <td>0</td>\n",
       "      <td>36</td>\n",
       "    </tr>\n",
       "  </tbody>\n",
       "</table>\n",
       "</div>"
      ],
      "text/plain": [
       "       user_id   order_id      order_date   booking_date order_status dport  \\\n",
       "0    M92022363  D00000013   2022/1/1 1:12  2022/1/1 0:00            S   PEK   \n",
       "1   M266512650  D00000015   2022/1/1 9:47  2022/1/1 0:00            S   PEK   \n",
       "2   M141555821  D00000016   2022/1/1 9:53  2022/1/1 0:00            S   PEK   \n",
       "3  M4691495608  D00000037  2022/1/1 20:29  2022/1/1 0:00            R   PEK   \n",
       "4  M4135757873  D00000014   2022/1/1 9:43  2022/1/1 0:00            S   PEK   \n",
       "\n",
       "  aport dcity_code acity_code     flight_time flight_number  flight_date  \\\n",
       "0   SYX        BJS        SYX  2022/1/1 14:35        CA1345     2022/1/1   \n",
       "1   SYX        BJS        SYX  2022/1/1 14:35        CA1345     2022/1/1   \n",
       "2   SYX        BJS        SYX  2022/1/1 14:35        CA1345     2022/1/1   \n",
       "3   SYX        BJS        SYX  2022/1/1 14:35        CA1345     2022/1/1   \n",
       "4   SYX        BJS        SYX  2022/1/1 14:35        CA1345     2022/1/1   \n",
       "\n",
       "     flight_num_date  flag  browsing_time  \n",
       "0  CA1345_2022-01-01     0             78  \n",
       "1  CA1345_2022-01-01     0             66  \n",
       "2  CA1345_2022-01-01     0             61  \n",
       "3  CA1345_2022-01-01     0             51  \n",
       "4  CA1345_2022-01-01     0             36  "
      ]
     },
     "execution_count": 8,
     "metadata": {},
     "output_type": "execute_result"
    }
   ],
   "source": [
    "result.head()"
   ]
  },
  {
   "cell_type": "code",
   "execution_count": 9,
   "metadata": {},
   "outputs": [
    {
     "data": {
      "text/plain": [
       "(1117, 15)"
      ]
     },
     "execution_count": 9,
     "metadata": {},
     "output_type": "execute_result"
    }
   ],
   "source": [
    "result.shape"
   ]
  },
  {
   "cell_type": "markdown",
   "metadata": {},
   "source": [
    "# 合并退票率"
   ]
  },
  {
   "cell_type": "code",
   "execution_count": 10,
   "metadata": {},
   "outputs": [
    {
     "data": {
      "text/html": [
       "<div>\n",
       "<style scoped>\n",
       "    .dataframe tbody tr th:only-of-type {\n",
       "        vertical-align: middle;\n",
       "    }\n",
       "\n",
       "    .dataframe tbody tr th {\n",
       "        vertical-align: top;\n",
       "    }\n",
       "\n",
       "    .dataframe thead th {\n",
       "        text-align: right;\n",
       "    }\n",
       "</style>\n",
       "<table border=\"1\" class=\"dataframe\">\n",
       "  <thead>\n",
       "    <tr style=\"text-align: right;\">\n",
       "      <th></th>\n",
       "      <th>user_id</th>\n",
       "      <th>order_id</th>\n",
       "      <th>order_date</th>\n",
       "      <th>booking_date</th>\n",
       "      <th>order_status</th>\n",
       "      <th>dport</th>\n",
       "      <th>aport</th>\n",
       "      <th>dcity_code</th>\n",
       "      <th>acity_code</th>\n",
       "      <th>flight_time</th>\n",
       "      <th>flight_number</th>\n",
       "      <th>flight_date</th>\n",
       "      <th>flight_num_date</th>\n",
       "      <th>flag</th>\n",
       "      <th>browsing_time</th>\n",
       "      <th>refund_rate</th>\n",
       "    </tr>\n",
       "  </thead>\n",
       "  <tbody>\n",
       "    <tr>\n",
       "      <th>0</th>\n",
       "      <td>M92022363</td>\n",
       "      <td>D00000013</td>\n",
       "      <td>2022/1/1 1:12</td>\n",
       "      <td>2022/1/1 0:00</td>\n",
       "      <td>S</td>\n",
       "      <td>PEK</td>\n",
       "      <td>SYX</td>\n",
       "      <td>BJS</td>\n",
       "      <td>SYX</td>\n",
       "      <td>2022/1/1 14:35</td>\n",
       "      <td>CA1345</td>\n",
       "      <td>2022/1/1</td>\n",
       "      <td>CA1345_2022-01-01</td>\n",
       "      <td>0</td>\n",
       "      <td>78</td>\n",
       "      <td>0.0909</td>\n",
       "    </tr>\n",
       "    <tr>\n",
       "      <th>1</th>\n",
       "      <td>M266512650</td>\n",
       "      <td>D00000015</td>\n",
       "      <td>2022/1/1 9:47</td>\n",
       "      <td>2022/1/1 0:00</td>\n",
       "      <td>S</td>\n",
       "      <td>PEK</td>\n",
       "      <td>SYX</td>\n",
       "      <td>BJS</td>\n",
       "      <td>SYX</td>\n",
       "      <td>2022/1/1 14:35</td>\n",
       "      <td>CA1345</td>\n",
       "      <td>2022/1/1</td>\n",
       "      <td>CA1345_2022-01-01</td>\n",
       "      <td>0</td>\n",
       "      <td>66</td>\n",
       "      <td>0.0909</td>\n",
       "    </tr>\n",
       "    <tr>\n",
       "      <th>2</th>\n",
       "      <td>M141555821</td>\n",
       "      <td>D00000016</td>\n",
       "      <td>2022/1/1 9:53</td>\n",
       "      <td>2022/1/1 0:00</td>\n",
       "      <td>S</td>\n",
       "      <td>PEK</td>\n",
       "      <td>SYX</td>\n",
       "      <td>BJS</td>\n",
       "      <td>SYX</td>\n",
       "      <td>2022/1/1 14:35</td>\n",
       "      <td>CA1345</td>\n",
       "      <td>2022/1/1</td>\n",
       "      <td>CA1345_2022-01-01</td>\n",
       "      <td>0</td>\n",
       "      <td>61</td>\n",
       "      <td>0.0909</td>\n",
       "    </tr>\n",
       "    <tr>\n",
       "      <th>3</th>\n",
       "      <td>M4691495608</td>\n",
       "      <td>D00000037</td>\n",
       "      <td>2022/1/1 20:29</td>\n",
       "      <td>2022/1/1 0:00</td>\n",
       "      <td>R</td>\n",
       "      <td>PEK</td>\n",
       "      <td>SYX</td>\n",
       "      <td>BJS</td>\n",
       "      <td>SYX</td>\n",
       "      <td>2022/1/1 14:35</td>\n",
       "      <td>CA1345</td>\n",
       "      <td>2022/1/1</td>\n",
       "      <td>CA1345_2022-01-01</td>\n",
       "      <td>0</td>\n",
       "      <td>51</td>\n",
       "      <td>0.0909</td>\n",
       "    </tr>\n",
       "    <tr>\n",
       "      <th>4</th>\n",
       "      <td>M4135757873</td>\n",
       "      <td>D00000014</td>\n",
       "      <td>2022/1/1 9:43</td>\n",
       "      <td>2022/1/1 0:00</td>\n",
       "      <td>S</td>\n",
       "      <td>PEK</td>\n",
       "      <td>SYX</td>\n",
       "      <td>BJS</td>\n",
       "      <td>SYX</td>\n",
       "      <td>2022/1/1 14:35</td>\n",
       "      <td>CA1345</td>\n",
       "      <td>2022/1/1</td>\n",
       "      <td>CA1345_2022-01-01</td>\n",
       "      <td>0</td>\n",
       "      <td>36</td>\n",
       "      <td>0.0909</td>\n",
       "    </tr>\n",
       "    <tr>\n",
       "      <th>5</th>\n",
       "      <td>M2706806772</td>\n",
       "      <td>D00000048</td>\n",
       "      <td>2022/1/2 10:12</td>\n",
       "      <td>2022/1/2 0:00</td>\n",
       "      <td>S</td>\n",
       "      <td>PEK</td>\n",
       "      <td>SYX</td>\n",
       "      <td>BJS</td>\n",
       "      <td>SYX</td>\n",
       "      <td>2022/1/1 14:35</td>\n",
       "      <td>CA1345</td>\n",
       "      <td>2022/1/1</td>\n",
       "      <td>CA1345_2022-01-01</td>\n",
       "      <td>0</td>\n",
       "      <td>36</td>\n",
       "      <td>0.0909</td>\n",
       "    </tr>\n",
       "    <tr>\n",
       "      <th>6</th>\n",
       "      <td>M4349009353</td>\n",
       "      <td>D00000034</td>\n",
       "      <td>2022/1/1 19:38</td>\n",
       "      <td>2022/1/1 0:00</td>\n",
       "      <td>S</td>\n",
       "      <td>PEK</td>\n",
       "      <td>SYX</td>\n",
       "      <td>BJS</td>\n",
       "      <td>SYX</td>\n",
       "      <td>2022/1/1 14:35</td>\n",
       "      <td>CA1345</td>\n",
       "      <td>2022/1/1</td>\n",
       "      <td>CA1345_2022-01-01</td>\n",
       "      <td>0</td>\n",
       "      <td>61</td>\n",
       "      <td>0.0909</td>\n",
       "    </tr>\n",
       "    <tr>\n",
       "      <th>7</th>\n",
       "      <td>M203089940</td>\n",
       "      <td>D00000021</td>\n",
       "      <td>2022/1/1 13:56</td>\n",
       "      <td>2022/1/1 0:00</td>\n",
       "      <td>R</td>\n",
       "      <td>PEK</td>\n",
       "      <td>SYX</td>\n",
       "      <td>BJS</td>\n",
       "      <td>SYX</td>\n",
       "      <td>2022/1/1 14:35</td>\n",
       "      <td>CA1345</td>\n",
       "      <td>2022/1/1</td>\n",
       "      <td>CA1345_2022-01-01</td>\n",
       "      <td>0</td>\n",
       "      <td>39</td>\n",
       "      <td>0.0909</td>\n",
       "    </tr>\n",
       "    <tr>\n",
       "      <th>8</th>\n",
       "      <td>M4491242462</td>\n",
       "      <td>D00000012</td>\n",
       "      <td>2022/1/1 0:57</td>\n",
       "      <td>2022/1/1 0:00</td>\n",
       "      <td>S</td>\n",
       "      <td>PEK</td>\n",
       "      <td>SYX</td>\n",
       "      <td>BJS</td>\n",
       "      <td>SYX</td>\n",
       "      <td>2022/1/1 14:35</td>\n",
       "      <td>CA1345</td>\n",
       "      <td>2022/1/1</td>\n",
       "      <td>CA1345_2022-01-01</td>\n",
       "      <td>0</td>\n",
       "      <td>51</td>\n",
       "      <td>0.0909</td>\n",
       "    </tr>\n",
       "    <tr>\n",
       "      <th>9</th>\n",
       "      <td>M4971892887</td>\n",
       "      <td>D00000049</td>\n",
       "      <td>2022/1/2 10:12</td>\n",
       "      <td>2022/1/2 0:00</td>\n",
       "      <td>S</td>\n",
       "      <td>PEK</td>\n",
       "      <td>SYX</td>\n",
       "      <td>BJS</td>\n",
       "      <td>SYX</td>\n",
       "      <td>2022/1/1 14:35</td>\n",
       "      <td>CA1345</td>\n",
       "      <td>2022/1/1</td>\n",
       "      <td>CA1345_2022-01-01</td>\n",
       "      <td>0</td>\n",
       "      <td>31</td>\n",
       "      <td>0.0909</td>\n",
       "    </tr>\n",
       "  </tbody>\n",
       "</table>\n",
       "</div>"
      ],
      "text/plain": [
       "       user_id   order_id      order_date   booking_date order_status dport  \\\n",
       "0    M92022363  D00000013   2022/1/1 1:12  2022/1/1 0:00            S   PEK   \n",
       "1   M266512650  D00000015   2022/1/1 9:47  2022/1/1 0:00            S   PEK   \n",
       "2   M141555821  D00000016   2022/1/1 9:53  2022/1/1 0:00            S   PEK   \n",
       "3  M4691495608  D00000037  2022/1/1 20:29  2022/1/1 0:00            R   PEK   \n",
       "4  M4135757873  D00000014   2022/1/1 9:43  2022/1/1 0:00            S   PEK   \n",
       "5  M2706806772  D00000048  2022/1/2 10:12  2022/1/2 0:00            S   PEK   \n",
       "6  M4349009353  D00000034  2022/1/1 19:38  2022/1/1 0:00            S   PEK   \n",
       "7   M203089940  D00000021  2022/1/1 13:56  2022/1/1 0:00            R   PEK   \n",
       "8  M4491242462  D00000012   2022/1/1 0:57  2022/1/1 0:00            S   PEK   \n",
       "9  M4971892887  D00000049  2022/1/2 10:12  2022/1/2 0:00            S   PEK   \n",
       "\n",
       "  aport dcity_code acity_code     flight_time flight_number  flight_date  \\\n",
       "0   SYX        BJS        SYX  2022/1/1 14:35        CA1345     2022/1/1   \n",
       "1   SYX        BJS        SYX  2022/1/1 14:35        CA1345     2022/1/1   \n",
       "2   SYX        BJS        SYX  2022/1/1 14:35        CA1345     2022/1/1   \n",
       "3   SYX        BJS        SYX  2022/1/1 14:35        CA1345     2022/1/1   \n",
       "4   SYX        BJS        SYX  2022/1/1 14:35        CA1345     2022/1/1   \n",
       "5   SYX        BJS        SYX  2022/1/1 14:35        CA1345     2022/1/1   \n",
       "6   SYX        BJS        SYX  2022/1/1 14:35        CA1345     2022/1/1   \n",
       "7   SYX        BJS        SYX  2022/1/1 14:35        CA1345     2022/1/1   \n",
       "8   SYX        BJS        SYX  2022/1/1 14:35        CA1345     2022/1/1   \n",
       "9   SYX        BJS        SYX  2022/1/1 14:35        CA1345     2022/1/1   \n",
       "\n",
       "     flight_num_date  flag  browsing_time  refund_rate  \n",
       "0  CA1345_2022-01-01     0             78       0.0909  \n",
       "1  CA1345_2022-01-01     0             66       0.0909  \n",
       "2  CA1345_2022-01-01     0             61       0.0909  \n",
       "3  CA1345_2022-01-01     0             51       0.0909  \n",
       "4  CA1345_2022-01-01     0             36       0.0909  \n",
       "5  CA1345_2022-01-01     0             36       0.0909  \n",
       "6  CA1345_2022-01-01     0             61       0.0909  \n",
       "7  CA1345_2022-01-01     0             39       0.0909  \n",
       "8  CA1345_2022-01-01     0             51       0.0909  \n",
       "9  CA1345_2022-01-01     0             31       0.0909  "
      ]
     },
     "execution_count": 10,
     "metadata": {},
     "output_type": "execute_result"
    }
   ],
   "source": [
    "result2=pd.merge(result,flight_refund_rate,left_on=\"flight_num_date\",right_on=\"flight_num_date\",how=\"inner\")\n",
    "result2.head(10)"
   ]
  },
  {
   "cell_type": "code",
   "execution_count": 11,
   "metadata": {},
   "outputs": [
    {
     "data": {
      "text/plain": [
       "(1117, 16)"
      ]
     },
     "execution_count": 11,
     "metadata": {},
     "output_type": "execute_result"
    }
   ],
   "source": [
    "result2.shape"
   ]
  },
  {
   "cell_type": "markdown",
   "metadata": {},
   "source": [
    "# 合并注册信息"
   ]
  },
  {
   "cell_type": "code",
   "execution_count": 12,
   "metadata": {},
   "outputs": [],
   "source": [
    "result3=pd.merge(result2,users,left_on=\"user_id\",right_on=\"user_id\",how=\"inner\")"
   ]
  },
  {
   "cell_type": "code",
   "execution_count": 13,
   "metadata": {},
   "outputs": [
    {
     "data": {
      "text/plain": [
       "(1080, 2)"
      ]
     },
     "execution_count": 13,
     "metadata": {},
     "output_type": "execute_result"
    }
   ],
   "source": [
    "users.shape"
   ]
  },
  {
   "cell_type": "code",
   "execution_count": 14,
   "metadata": {},
   "outputs": [
    {
     "data": {
      "text/html": [
       "<div>\n",
       "<style scoped>\n",
       "    .dataframe tbody tr th:only-of-type {\n",
       "        vertical-align: middle;\n",
       "    }\n",
       "\n",
       "    .dataframe tbody tr th {\n",
       "        vertical-align: top;\n",
       "    }\n",
       "\n",
       "    .dataframe thead th {\n",
       "        text-align: right;\n",
       "    }\n",
       "</style>\n",
       "<table border=\"1\" class=\"dataframe\">\n",
       "  <thead>\n",
       "    <tr style=\"text-align: right;\">\n",
       "      <th></th>\n",
       "      <th>user_id</th>\n",
       "      <th>order_id</th>\n",
       "      <th>order_date</th>\n",
       "      <th>booking_date</th>\n",
       "      <th>order_status</th>\n",
       "      <th>dport</th>\n",
       "      <th>aport</th>\n",
       "      <th>dcity_code</th>\n",
       "      <th>acity_code</th>\n",
       "      <th>flight_time</th>\n",
       "      <th>flight_number</th>\n",
       "      <th>flight_date</th>\n",
       "      <th>flight_num_date</th>\n",
       "      <th>flag</th>\n",
       "      <th>browsing_time</th>\n",
       "      <th>refund_rate</th>\n",
       "      <th>join_date</th>\n",
       "    </tr>\n",
       "  </thead>\n",
       "  <tbody>\n",
       "    <tr>\n",
       "      <th>0</th>\n",
       "      <td>M92022363</td>\n",
       "      <td>D00000013</td>\n",
       "      <td>2022/1/1 1:12</td>\n",
       "      <td>2022/1/1 0:00</td>\n",
       "      <td>S</td>\n",
       "      <td>PEK</td>\n",
       "      <td>SYX</td>\n",
       "      <td>BJS</td>\n",
       "      <td>SYX</td>\n",
       "      <td>2022/1/1 14:35</td>\n",
       "      <td>CA1345</td>\n",
       "      <td>2022/1/1</td>\n",
       "      <td>CA1345_2022-01-01</td>\n",
       "      <td>0</td>\n",
       "      <td>78</td>\n",
       "      <td>0.0909</td>\n",
       "      <td>2021/12/13 7:06</td>\n",
       "    </tr>\n",
       "    <tr>\n",
       "      <th>1</th>\n",
       "      <td>M266512650</td>\n",
       "      <td>D00000015</td>\n",
       "      <td>2022/1/1 9:47</td>\n",
       "      <td>2022/1/1 0:00</td>\n",
       "      <td>S</td>\n",
       "      <td>PEK</td>\n",
       "      <td>SYX</td>\n",
       "      <td>BJS</td>\n",
       "      <td>SYX</td>\n",
       "      <td>2022/1/1 14:35</td>\n",
       "      <td>CA1345</td>\n",
       "      <td>2022/1/1</td>\n",
       "      <td>CA1345_2022-01-01</td>\n",
       "      <td>0</td>\n",
       "      <td>66</td>\n",
       "      <td>0.0909</td>\n",
       "      <td>2021/10/8 5:03</td>\n",
       "    </tr>\n",
       "    <tr>\n",
       "      <th>2</th>\n",
       "      <td>M141555821</td>\n",
       "      <td>D00000016</td>\n",
       "      <td>2022/1/1 9:53</td>\n",
       "      <td>2022/1/1 0:00</td>\n",
       "      <td>S</td>\n",
       "      <td>PEK</td>\n",
       "      <td>SYX</td>\n",
       "      <td>BJS</td>\n",
       "      <td>SYX</td>\n",
       "      <td>2022/1/1 14:35</td>\n",
       "      <td>CA1345</td>\n",
       "      <td>2022/1/1</td>\n",
       "      <td>CA1345_2022-01-01</td>\n",
       "      <td>0</td>\n",
       "      <td>61</td>\n",
       "      <td>0.0909</td>\n",
       "      <td>2021/10/22 23:18</td>\n",
       "    </tr>\n",
       "    <tr>\n",
       "      <th>3</th>\n",
       "      <td>M4691495608</td>\n",
       "      <td>D00000037</td>\n",
       "      <td>2022/1/1 20:29</td>\n",
       "      <td>2022/1/1 0:00</td>\n",
       "      <td>R</td>\n",
       "      <td>PEK</td>\n",
       "      <td>SYX</td>\n",
       "      <td>BJS</td>\n",
       "      <td>SYX</td>\n",
       "      <td>2022/1/1 14:35</td>\n",
       "      <td>CA1345</td>\n",
       "      <td>2022/1/1</td>\n",
       "      <td>CA1345_2022-01-01</td>\n",
       "      <td>0</td>\n",
       "      <td>51</td>\n",
       "      <td>0.0909</td>\n",
       "      <td>2021/12/10 5:14</td>\n",
       "    </tr>\n",
       "    <tr>\n",
       "      <th>4</th>\n",
       "      <td>M4135757873</td>\n",
       "      <td>D00000014</td>\n",
       "      <td>2022/1/1 9:43</td>\n",
       "      <td>2022/1/1 0:00</td>\n",
       "      <td>S</td>\n",
       "      <td>PEK</td>\n",
       "      <td>SYX</td>\n",
       "      <td>BJS</td>\n",
       "      <td>SYX</td>\n",
       "      <td>2022/1/1 14:35</td>\n",
       "      <td>CA1345</td>\n",
       "      <td>2022/1/1</td>\n",
       "      <td>CA1345_2022-01-01</td>\n",
       "      <td>0</td>\n",
       "      <td>36</td>\n",
       "      <td>0.0909</td>\n",
       "      <td>2021/10/15 2:42</td>\n",
       "    </tr>\n",
       "    <tr>\n",
       "      <th>5</th>\n",
       "      <td>M2706806772</td>\n",
       "      <td>D00000048</td>\n",
       "      <td>2022/1/2 10:12</td>\n",
       "      <td>2022/1/2 0:00</td>\n",
       "      <td>S</td>\n",
       "      <td>PEK</td>\n",
       "      <td>SYX</td>\n",
       "      <td>BJS</td>\n",
       "      <td>SYX</td>\n",
       "      <td>2022/1/1 14:35</td>\n",
       "      <td>CA1345</td>\n",
       "      <td>2022/1/1</td>\n",
       "      <td>CA1345_2022-01-01</td>\n",
       "      <td>0</td>\n",
       "      <td>36</td>\n",
       "      <td>0.0909</td>\n",
       "      <td>2021/11/1 1:17</td>\n",
       "    </tr>\n",
       "    <tr>\n",
       "      <th>6</th>\n",
       "      <td>M4349009353</td>\n",
       "      <td>D00000034</td>\n",
       "      <td>2022/1/1 19:38</td>\n",
       "      <td>2022/1/1 0:00</td>\n",
       "      <td>S</td>\n",
       "      <td>PEK</td>\n",
       "      <td>SYX</td>\n",
       "      <td>BJS</td>\n",
       "      <td>SYX</td>\n",
       "      <td>2022/1/1 14:35</td>\n",
       "      <td>CA1345</td>\n",
       "      <td>2022/1/1</td>\n",
       "      <td>CA1345_2022-01-01</td>\n",
       "      <td>0</td>\n",
       "      <td>61</td>\n",
       "      <td>0.0909</td>\n",
       "      <td>2021/12/17 9:42</td>\n",
       "    </tr>\n",
       "    <tr>\n",
       "      <th>7</th>\n",
       "      <td>M203089940</td>\n",
       "      <td>D00000021</td>\n",
       "      <td>2022/1/1 13:56</td>\n",
       "      <td>2022/1/1 0:00</td>\n",
       "      <td>R</td>\n",
       "      <td>PEK</td>\n",
       "      <td>SYX</td>\n",
       "      <td>BJS</td>\n",
       "      <td>SYX</td>\n",
       "      <td>2022/1/1 14:35</td>\n",
       "      <td>CA1345</td>\n",
       "      <td>2022/1/1</td>\n",
       "      <td>CA1345_2022-01-01</td>\n",
       "      <td>0</td>\n",
       "      <td>39</td>\n",
       "      <td>0.0909</td>\n",
       "      <td>2021/10/22 16:25</td>\n",
       "    </tr>\n",
       "    <tr>\n",
       "      <th>8</th>\n",
       "      <td>M4491242462</td>\n",
       "      <td>D00000012</td>\n",
       "      <td>2022/1/1 0:57</td>\n",
       "      <td>2022/1/1 0:00</td>\n",
       "      <td>S</td>\n",
       "      <td>PEK</td>\n",
       "      <td>SYX</td>\n",
       "      <td>BJS</td>\n",
       "      <td>SYX</td>\n",
       "      <td>2022/1/1 14:35</td>\n",
       "      <td>CA1345</td>\n",
       "      <td>2022/1/1</td>\n",
       "      <td>CA1345_2022-01-01</td>\n",
       "      <td>0</td>\n",
       "      <td>51</td>\n",
       "      <td>0.0909</td>\n",
       "      <td>2021/12/28 19:35</td>\n",
       "    </tr>\n",
       "    <tr>\n",
       "      <th>9</th>\n",
       "      <td>M4971892887</td>\n",
       "      <td>D00000049</td>\n",
       "      <td>2022/1/2 10:12</td>\n",
       "      <td>2022/1/2 0:00</td>\n",
       "      <td>S</td>\n",
       "      <td>PEK</td>\n",
       "      <td>SYX</td>\n",
       "      <td>BJS</td>\n",
       "      <td>SYX</td>\n",
       "      <td>2022/1/1 14:35</td>\n",
       "      <td>CA1345</td>\n",
       "      <td>2022/1/1</td>\n",
       "      <td>CA1345_2022-01-01</td>\n",
       "      <td>0</td>\n",
       "      <td>31</td>\n",
       "      <td>0.0909</td>\n",
       "      <td>2021/11/1 21:46</td>\n",
       "    </tr>\n",
       "  </tbody>\n",
       "</table>\n",
       "</div>"
      ],
      "text/plain": [
       "       user_id   order_id      order_date   booking_date order_status dport  \\\n",
       "0    M92022363  D00000013   2022/1/1 1:12  2022/1/1 0:00            S   PEK   \n",
       "1   M266512650  D00000015   2022/1/1 9:47  2022/1/1 0:00            S   PEK   \n",
       "2   M141555821  D00000016   2022/1/1 9:53  2022/1/1 0:00            S   PEK   \n",
       "3  M4691495608  D00000037  2022/1/1 20:29  2022/1/1 0:00            R   PEK   \n",
       "4  M4135757873  D00000014   2022/1/1 9:43  2022/1/1 0:00            S   PEK   \n",
       "5  M2706806772  D00000048  2022/1/2 10:12  2022/1/2 0:00            S   PEK   \n",
       "6  M4349009353  D00000034  2022/1/1 19:38  2022/1/1 0:00            S   PEK   \n",
       "7   M203089940  D00000021  2022/1/1 13:56  2022/1/1 0:00            R   PEK   \n",
       "8  M4491242462  D00000012   2022/1/1 0:57  2022/1/1 0:00            S   PEK   \n",
       "9  M4971892887  D00000049  2022/1/2 10:12  2022/1/2 0:00            S   PEK   \n",
       "\n",
       "  aport dcity_code acity_code     flight_time flight_number  flight_date  \\\n",
       "0   SYX        BJS        SYX  2022/1/1 14:35        CA1345     2022/1/1   \n",
       "1   SYX        BJS        SYX  2022/1/1 14:35        CA1345     2022/1/1   \n",
       "2   SYX        BJS        SYX  2022/1/1 14:35        CA1345     2022/1/1   \n",
       "3   SYX        BJS        SYX  2022/1/1 14:35        CA1345     2022/1/1   \n",
       "4   SYX        BJS        SYX  2022/1/1 14:35        CA1345     2022/1/1   \n",
       "5   SYX        BJS        SYX  2022/1/1 14:35        CA1345     2022/1/1   \n",
       "6   SYX        BJS        SYX  2022/1/1 14:35        CA1345     2022/1/1   \n",
       "7   SYX        BJS        SYX  2022/1/1 14:35        CA1345     2022/1/1   \n",
       "8   SYX        BJS        SYX  2022/1/1 14:35        CA1345     2022/1/1   \n",
       "9   SYX        BJS        SYX  2022/1/1 14:35        CA1345     2022/1/1   \n",
       "\n",
       "     flight_num_date  flag  browsing_time  refund_rate         join_date  \n",
       "0  CA1345_2022-01-01     0             78       0.0909   2021/12/13 7:06  \n",
       "1  CA1345_2022-01-01     0             66       0.0909    2021/10/8 5:03  \n",
       "2  CA1345_2022-01-01     0             61       0.0909  2021/10/22 23:18  \n",
       "3  CA1345_2022-01-01     0             51       0.0909   2021/12/10 5:14  \n",
       "4  CA1345_2022-01-01     0             36       0.0909   2021/10/15 2:42  \n",
       "5  CA1345_2022-01-01     0             36       0.0909    2021/11/1 1:17  \n",
       "6  CA1345_2022-01-01     0             61       0.0909   2021/12/17 9:42  \n",
       "7  CA1345_2022-01-01     0             39       0.0909  2021/10/22 16:25  \n",
       "8  CA1345_2022-01-01     0             51       0.0909  2021/12/28 19:35  \n",
       "9  CA1345_2022-01-01     0             31       0.0909   2021/11/1 21:46  "
      ]
     },
     "execution_count": 14,
     "metadata": {},
     "output_type": "execute_result"
    }
   ],
   "source": [
    "result3.head(10)"
   ]
  },
  {
   "cell_type": "code",
   "execution_count": 15,
   "metadata": {},
   "outputs": [
    {
     "data": {
      "text/plain": [
       "(1117, 17)"
      ]
     },
     "execution_count": 15,
     "metadata": {},
     "output_type": "execute_result"
    }
   ],
   "source": [
    "result3.shape"
   ]
  },
  {
   "cell_type": "markdown",
   "metadata": {},
   "source": [
    "# 计算注册时间和下单时间差值"
   ]
  },
  {
   "cell_type": "code",
   "execution_count": 16,
   "metadata": {},
   "outputs": [],
   "source": [
    "result3['ordermins'] = pd.to_datetime(result3['order_date'])\n",
    "result3['joinmins'] =  pd.to_datetime(result3['join_date'])\n",
    "result3['RegisteredTime']=(result3['ordermins']-result3['joinmins']).dt.seconds"
   ]
  },
  {
   "cell_type": "code",
   "execution_count": 17,
   "metadata": {},
   "outputs": [
    {
     "data": {
      "text/html": [
       "<div>\n",
       "<style scoped>\n",
       "    .dataframe tbody tr th:only-of-type {\n",
       "        vertical-align: middle;\n",
       "    }\n",
       "\n",
       "    .dataframe tbody tr th {\n",
       "        vertical-align: top;\n",
       "    }\n",
       "\n",
       "    .dataframe thead th {\n",
       "        text-align: right;\n",
       "    }\n",
       "</style>\n",
       "<table border=\"1\" class=\"dataframe\">\n",
       "  <thead>\n",
       "    <tr style=\"text-align: right;\">\n",
       "      <th></th>\n",
       "      <th>user_id</th>\n",
       "      <th>order_id</th>\n",
       "      <th>order_date</th>\n",
       "      <th>booking_date</th>\n",
       "      <th>order_status</th>\n",
       "      <th>dport</th>\n",
       "      <th>aport</th>\n",
       "      <th>dcity_code</th>\n",
       "      <th>acity_code</th>\n",
       "      <th>flight_time</th>\n",
       "      <th>flight_number</th>\n",
       "      <th>flight_date</th>\n",
       "      <th>flight_num_date</th>\n",
       "      <th>flag</th>\n",
       "      <th>browsing_time</th>\n",
       "      <th>refund_rate</th>\n",
       "      <th>join_date</th>\n",
       "      <th>ordermins</th>\n",
       "      <th>joinmins</th>\n",
       "      <th>RegisteredTime</th>\n",
       "    </tr>\n",
       "  </thead>\n",
       "  <tbody>\n",
       "    <tr>\n",
       "      <th>0</th>\n",
       "      <td>M92022363</td>\n",
       "      <td>D00000013</td>\n",
       "      <td>2022/1/1 1:12</td>\n",
       "      <td>2022/1/1 0:00</td>\n",
       "      <td>S</td>\n",
       "      <td>PEK</td>\n",
       "      <td>SYX</td>\n",
       "      <td>BJS</td>\n",
       "      <td>SYX</td>\n",
       "      <td>2022/1/1 14:35</td>\n",
       "      <td>CA1345</td>\n",
       "      <td>2022/1/1</td>\n",
       "      <td>CA1345_2022-01-01</td>\n",
       "      <td>0</td>\n",
       "      <td>78</td>\n",
       "      <td>0.0909</td>\n",
       "      <td>2021/12/13 7:06</td>\n",
       "      <td>2022-01-01 01:12:00</td>\n",
       "      <td>2021-12-13 07:06:00</td>\n",
       "      <td>65160</td>\n",
       "    </tr>\n",
       "    <tr>\n",
       "      <th>1</th>\n",
       "      <td>M266512650</td>\n",
       "      <td>D00000015</td>\n",
       "      <td>2022/1/1 9:47</td>\n",
       "      <td>2022/1/1 0:00</td>\n",
       "      <td>S</td>\n",
       "      <td>PEK</td>\n",
       "      <td>SYX</td>\n",
       "      <td>BJS</td>\n",
       "      <td>SYX</td>\n",
       "      <td>2022/1/1 14:35</td>\n",
       "      <td>CA1345</td>\n",
       "      <td>2022/1/1</td>\n",
       "      <td>CA1345_2022-01-01</td>\n",
       "      <td>0</td>\n",
       "      <td>66</td>\n",
       "      <td>0.0909</td>\n",
       "      <td>2021/10/8 5:03</td>\n",
       "      <td>2022-01-01 09:47:00</td>\n",
       "      <td>2021-10-08 05:03:00</td>\n",
       "      <td>17040</td>\n",
       "    </tr>\n",
       "    <tr>\n",
       "      <th>2</th>\n",
       "      <td>M141555821</td>\n",
       "      <td>D00000016</td>\n",
       "      <td>2022/1/1 9:53</td>\n",
       "      <td>2022/1/1 0:00</td>\n",
       "      <td>S</td>\n",
       "      <td>PEK</td>\n",
       "      <td>SYX</td>\n",
       "      <td>BJS</td>\n",
       "      <td>SYX</td>\n",
       "      <td>2022/1/1 14:35</td>\n",
       "      <td>CA1345</td>\n",
       "      <td>2022/1/1</td>\n",
       "      <td>CA1345_2022-01-01</td>\n",
       "      <td>0</td>\n",
       "      <td>61</td>\n",
       "      <td>0.0909</td>\n",
       "      <td>2021/10/22 23:18</td>\n",
       "      <td>2022-01-01 09:53:00</td>\n",
       "      <td>2021-10-22 23:18:00</td>\n",
       "      <td>38100</td>\n",
       "    </tr>\n",
       "    <tr>\n",
       "      <th>3</th>\n",
       "      <td>M4691495608</td>\n",
       "      <td>D00000037</td>\n",
       "      <td>2022/1/1 20:29</td>\n",
       "      <td>2022/1/1 0:00</td>\n",
       "      <td>R</td>\n",
       "      <td>PEK</td>\n",
       "      <td>SYX</td>\n",
       "      <td>BJS</td>\n",
       "      <td>SYX</td>\n",
       "      <td>2022/1/1 14:35</td>\n",
       "      <td>CA1345</td>\n",
       "      <td>2022/1/1</td>\n",
       "      <td>CA1345_2022-01-01</td>\n",
       "      <td>0</td>\n",
       "      <td>51</td>\n",
       "      <td>0.0909</td>\n",
       "      <td>2021/12/10 5:14</td>\n",
       "      <td>2022-01-01 20:29:00</td>\n",
       "      <td>2021-12-10 05:14:00</td>\n",
       "      <td>54900</td>\n",
       "    </tr>\n",
       "    <tr>\n",
       "      <th>4</th>\n",
       "      <td>M4135757873</td>\n",
       "      <td>D00000014</td>\n",
       "      <td>2022/1/1 9:43</td>\n",
       "      <td>2022/1/1 0:00</td>\n",
       "      <td>S</td>\n",
       "      <td>PEK</td>\n",
       "      <td>SYX</td>\n",
       "      <td>BJS</td>\n",
       "      <td>SYX</td>\n",
       "      <td>2022/1/1 14:35</td>\n",
       "      <td>CA1345</td>\n",
       "      <td>2022/1/1</td>\n",
       "      <td>CA1345_2022-01-01</td>\n",
       "      <td>0</td>\n",
       "      <td>36</td>\n",
       "      <td>0.0909</td>\n",
       "      <td>2021/10/15 2:42</td>\n",
       "      <td>2022-01-01 09:43:00</td>\n",
       "      <td>2021-10-15 02:42:00</td>\n",
       "      <td>25260</td>\n",
       "    </tr>\n",
       "  </tbody>\n",
       "</table>\n",
       "</div>"
      ],
      "text/plain": [
       "       user_id   order_id      order_date   booking_date order_status dport  \\\n",
       "0    M92022363  D00000013   2022/1/1 1:12  2022/1/1 0:00            S   PEK   \n",
       "1   M266512650  D00000015   2022/1/1 9:47  2022/1/1 0:00            S   PEK   \n",
       "2   M141555821  D00000016   2022/1/1 9:53  2022/1/1 0:00            S   PEK   \n",
       "3  M4691495608  D00000037  2022/1/1 20:29  2022/1/1 0:00            R   PEK   \n",
       "4  M4135757873  D00000014   2022/1/1 9:43  2022/1/1 0:00            S   PEK   \n",
       "\n",
       "  aport dcity_code acity_code     flight_time flight_number  flight_date  \\\n",
       "0   SYX        BJS        SYX  2022/1/1 14:35        CA1345     2022/1/1   \n",
       "1   SYX        BJS        SYX  2022/1/1 14:35        CA1345     2022/1/1   \n",
       "2   SYX        BJS        SYX  2022/1/1 14:35        CA1345     2022/1/1   \n",
       "3   SYX        BJS        SYX  2022/1/1 14:35        CA1345     2022/1/1   \n",
       "4   SYX        BJS        SYX  2022/1/1 14:35        CA1345     2022/1/1   \n",
       "\n",
       "     flight_num_date  flag  browsing_time  refund_rate         join_date  \\\n",
       "0  CA1345_2022-01-01     0             78       0.0909   2021/12/13 7:06   \n",
       "1  CA1345_2022-01-01     0             66       0.0909    2021/10/8 5:03   \n",
       "2  CA1345_2022-01-01     0             61       0.0909  2021/10/22 23:18   \n",
       "3  CA1345_2022-01-01     0             51       0.0909   2021/12/10 5:14   \n",
       "4  CA1345_2022-01-01     0             36       0.0909   2021/10/15 2:42   \n",
       "\n",
       "            ordermins            joinmins  RegisteredTime  \n",
       "0 2022-01-01 01:12:00 2021-12-13 07:06:00           65160  \n",
       "1 2022-01-01 09:47:00 2021-10-08 05:03:00           17040  \n",
       "2 2022-01-01 09:53:00 2021-10-22 23:18:00           38100  \n",
       "3 2022-01-01 20:29:00 2021-12-10 05:14:00           54900  \n",
       "4 2022-01-01 09:43:00 2021-10-15 02:42:00           25260  "
      ]
     },
     "execution_count": 17,
     "metadata": {},
     "output_type": "execute_result"
    }
   ],
   "source": [
    "result3.head(5)"
   ]
  },
  {
   "cell_type": "markdown",
   "metadata": {},
   "source": [
    "# Label"
   ]
  },
  {
   "cell_type": "code",
   "execution_count": 18,
   "metadata": {},
   "outputs": [],
   "source": [
    "target = result['flag'].values"
   ]
  },
  {
   "cell_type": "code",
   "execution_count": 19,
   "metadata": {},
   "outputs": [
    {
     "data": {
      "text/plain": [
       "array([0, 0, 0, ..., 0, 0, 0], dtype=int64)"
      ]
     },
     "execution_count": 19,
     "metadata": {},
     "output_type": "execute_result"
    }
   ],
   "source": [
    "target"
   ]
  },
  {
   "cell_type": "markdown",
   "metadata": {},
   "source": [
    "# 数据"
   ]
  },
  {
   "cell_type": "code",
   "execution_count": 20,
   "metadata": {},
   "outputs": [],
   "source": [
    "#data=result3[['user_id','order_id','order_date','booking_date','order_status','dport','aport','dcity_code','acity_code','flight_time','flight_num_date','browsing_time','refund_rate','join_date','RegisteredTime']].values\n",
    "data=result3[['browsing_time','refund_rate','RegisteredTime']].values"
   ]
  },
  {
   "cell_type": "code",
   "execution_count": 21,
   "metadata": {},
   "outputs": [
    {
     "data": {
      "text/plain": [
       "array([[7.800e+01, 9.090e-02, 6.516e+04],\n",
       "       [6.600e+01, 9.090e-02, 1.704e+04],\n",
       "       [6.100e+01, 9.090e-02, 3.810e+04],\n",
       "       ...,\n",
       "       [7.300e+01, 3.839e-01, 6.072e+04],\n",
       "       [7.900e+01, 3.839e-01, 2.034e+04],\n",
       "       [7.400e+01, 3.839e-01, 3.576e+04]])"
      ]
     },
     "execution_count": 21,
     "metadata": {},
     "output_type": "execute_result"
    }
   ],
   "source": [
    "data"
   ]
  },
  {
   "cell_type": "code",
   "execution_count": 22,
   "metadata": {},
   "outputs": [],
   "source": [
    "data_pre=data"
   ]
  },
  {
   "cell_type": "markdown",
   "metadata": {},
   "source": [
    "# 数据可视化"
   ]
  },
  {
   "cell_type": "code",
   "execution_count": 23,
   "metadata": {},
   "outputs": [],
   "source": [
    "import matplotlib.pyplot as plt\n",
    "%matplotlib inline\n",
    "plt.style.use('ggplot')"
   ]
  },
  {
   "cell_type": "code",
   "execution_count": 24,
   "metadata": {},
   "outputs": [
    {
     "data": {
      "text/plain": [
       "Text(0, 0.5, 'RegisteredTime')"
      ]
     },
     "execution_count": 24,
     "metadata": {},
     "output_type": "execute_result"
    },
    {
     "data": {
      "image/png": "[encoded data removed]",
      "text/plain": [
       "<Figure size 360x1152 with 3 Axes>"
      ]
     },
     "metadata": {},
     "output_type": "display_data"
    }
   ],
   "source": [
    "plt.figure(figsize=(5, 16))\n",
    "\n",
    "plt.subplot(311)\n",
    "plt.scatter(result3['browsing_time'], result3['refund_rate'],\n",
    "            c=target, s=100)\n",
    "plt.xlabel('browsing_time')\n",
    "plt.ylabel('refund_rate')\n",
    "\n",
    "plt.subplot(312)\n",
    "plt.scatter(result3['RegisteredTime'], result3['refund_rate'],\n",
    "            c=target, s=100)\n",
    "plt.xlabel('RegisteredTime')\n",
    "plt.ylabel('refund_rate')\n",
    "\n",
    "plt.subplot(313)\n",
    "plt.scatter(result3['browsing_time'], result3['RegisteredTime'],\n",
    "            c=target, s=100)\n",
    "plt.xlabel('browsing_time')\n",
    "plt.ylabel('RegisteredTime')\n"
   ]
  },
  {
   "cell_type": "code",
   "execution_count": 25,
   "metadata": {},
   "outputs": [
    {
     "data": {
      "text/plain": [
       "array([7.800e+01, 9.090e-02, 6.516e+04])"
      ]
     },
     "execution_count": 25,
     "metadata": {},
     "output_type": "execute_result"
    }
   ],
   "source": [
    "data_pre[0]"
   ]
  },
  {
   "cell_type": "code",
   "execution_count": 26,
   "metadata": {},
   "outputs": [
    {
     "data": {
      "text/plain": [
       "((1117, 3), (1117,))"
      ]
     },
     "execution_count": 26,
     "metadata": {},
     "output_type": "execute_result"
    }
   ],
   "source": [
    "data_pre.shape,target.shape"
   ]
  },
  {
   "cell_type": "markdown",
   "metadata": {},
   "source": [
    "# 准备训练和测试集"
   ]
  },
  {
   "cell_type": "code",
   "execution_count": 27,
   "metadata": {},
   "outputs": [],
   "source": [
    "import sklearn.model_selection as ms\n",
    "X_train, X_test, y_train, y_test = ms.train_test_split(\n",
    "    data_pre, target, test_size=5, random_state=42\n",
    ")"
   ]
  },
  {
   "cell_type": "markdown",
   "metadata": {},
   "source": [
    "# 使用决策树进行训练模型"
   ]
  },
  {
   "cell_type": "code",
   "execution_count": 28,
   "metadata": {},
   "outputs": [
    {
     "data": {
      "text/plain": [
       "DecisionTreeClassifier()"
      ]
     },
     "execution_count": 28,
     "metadata": {},
     "output_type": "execute_result"
    }
   ],
   "source": [
    "from sklearn import tree\n",
    "from sklearn import metrics\n",
    "\n",
    "dtc=tree.DecisionTreeClassifier()\n",
    "dtc.fit(X_train,y_train)   #使用训练集进行训练"
   ]
  },
  {
   "cell_type": "markdown",
   "metadata": {},
   "source": [
    "# 验证模型"
   ]
  },
  {
   "cell_type": "code",
   "execution_count": 29,
   "metadata": {},
   "outputs": [
    {
     "name": "stdout",
     "output_type": "stream",
     "text": [
      "1.0\n",
      "0.8\n"
     ]
    }
   ],
   "source": [
    "print(dtc.score(X_train,y_train))\n",
    "print(dtc.score(X_test,y_test))\n",
    "y_predict=dtc.predict(X_test)"
   ]
  },
  {
   "cell_type": "code",
   "execution_count": 33,
   "metadata": {},
   "outputs": [
    {
     "name": "stdout",
     "output_type": "stream",
     "text": [
      "Accuracy: 0.8\n",
      "Precision: 0.5\n",
      "Recall: 0.4\n",
      "F1-score: 0.4444444444444445\n"
     ]
    }
   ],
   "source": [
    "from sklearn import metrics \n",
    "print('Accuracy:',metrics.accuracy_score(y_test,y_predict))\n",
    "print('Precision:',metrics.precision_score(y_test,y_predict,average='macro'))\n",
    "print('Recall:',metrics.recall_score(y_test,y_predict,average='macro'))\n",
    "print('F1-score:',metrics.f1_score(y_test,y_predict,average='macro',zero_division=0))"
   ]
  },
  {
   "cell_type": "markdown",
   "metadata": {},
   "source": [
    "# ？？？"
   ]
  },
  {
   "cell_type": "code",
   "execution_count": 35,
   "metadata": {},
   "outputs": [
    {
     "name": "stdout",
     "output_type": "stream",
     "text": [
      "Accuracy: 0.8\n",
      "Precision: 0.8\n",
      "Recall: 0.8\n",
      "F1-score: 0.8000000000000002\n"
     ]
    }
   ],
   "source": [
    "from sklearn import metrics \n",
    "print('Accuracy:',metrics.accuracy_score(y_test,y_predict))\n",
    "print('Precision:',metrics.precision_score(y_test,y_predict,average='micro'))\n",
    "print('Recall:',metrics.recall_score(y_test,y_predict,average='micro'))\n",
    "print('F1-score:',metrics.f1_score(y_test,y_predict,average='micro',zero_division=0))"
   ]
  },
  {
   "cell_type": "markdown",
   "metadata": {},
   "source": [
    "# ？？？"
   ]
  },
  {
   "cell_type": "code",
   "execution_count": 36,
   "metadata": {},
   "outputs": [
    {
     "name": "stdout",
     "output_type": "stream",
     "text": [
      "Accuracy: 0.8\n",
      "Precision: 1.0\n",
      "Recall: 0.8\n",
      "F1-score: 0.888888888888889\n"
     ]
    }
   ],
   "source": [
    "from sklearn import metrics \n",
    "print('Accuracy:',metrics.accuracy_score(y_test,y_predict))\n",
    "print('Precision:',metrics.precision_score(y_test,y_predict,average='weighted'))\n",
    "print('Recall:',metrics.recall_score(y_test,y_predict,average='weighted'))\n",
    "print('F1-score:',metrics.f1_score(y_test,y_predict,average='weighted',zero_division=0))"
   ]
  },
  {
   "cell_type": "markdown",
   "metadata": {},
   "source": [
    "# https://scikit-learn.org/stable/modules/generated/sklearn.metrics.recall_score.html"
   ]
  },
  {
   "cell_type": "markdown",
   "metadata": {},
   "source": [
    "# 可视化决策树"
   ]
  },
  {
   "cell_type": "code",
   "execution_count": 31,
   "metadata": {},
   "outputs": [],
   "source": [
    "import pydotplus\n",
    "with open(\"tree3.pdf\", 'w') as doc_data: dot_data = tree.export_graphviz(dtc, out_file=None,\n",
    "                         feature_names=['browsing_time','refund_rate','RegisteredTime'],\n",
    "                         class_names=['0', '1'],\n",
    "                         filled=True, rounded=True,\n",
    "                         special_characters=True)\n",
    "graph = pydotplus.graph_from_dot_data(dot_data)"
   ]
  },
  {
   "cell_type": "code",
   "execution_count": 33,
   "metadata": {},
   "outputs": [
    {
     "data": {
      "text/plain": [
       "True"
      ]
     },
     "execution_count": 33,
     "metadata": {},
     "output_type": "execute_result"
    }
   ],
   "source": [
    "import os\n",
    "os.environ[\"PATH\"] += os.pathsep + 'C:/Program Files (x86)/Graphviz2.38/bin/' \n",
    "graph.write_pdf(\"tree.pdf\")"
   ]
  },
  {
   "cell_type": "code",
   "execution_count": 34,
   "metadata": {},
   "outputs": [
    {
     "data": {
      "text/plain": [
       "array([0.18760899, 0.20719181, 0.6051992 ])"
      ]
     },
     "execution_count": 34,
     "metadata": {},
     "output_type": "execute_result"
    }
   ],
   "source": [
    "dtc.feature_importances_"
   ]
  },
  {
   "cell_type": "code",
   "execution_count": 37,
   "metadata": {
    "scrolled": true
   },
   "outputs": [
    {
     "data": {
      "image/png": "[encoded data removed]",
      "text/plain": [
       "<Figure size 432x288 with 1 Axes>"
      ]
     },
     "metadata": {},
     "output_type": "display_data"
    }
   ],
   "source": [
    "plt.barh(range(3), dtc.feature_importances_, align='center', tick_label=['browsing_time','refund_rate','RegisteredTime'])\n",
    "plt.show()"
   ]
  },
  {
   "cell_type": "markdown",
   "metadata": {},
   "source": [
    "# 尝试其他算法并评估模型"
   ]
  },
  {
   "cell_type": "code",
   "execution_count": null,
   "metadata": {},
   "outputs": [],
   "source": []
  }
 ],
 "metadata": {
  "kernelspec": {
   "display_name": "Python 3",
   "language": "python",
   "name": "python3"
  },
  "language_info": {
   "codemirror_mode": {
    "name": "ipython",
    "version": 3
   },
   "file_extension": ".py",
   "mimetype": "text/x-python",
   "name": "python",
   "nbconvert_exporter": "python",
   "pygments_lexer": "ipython3",
   "version": "3.8.3"
  }
 },
 "nbformat": 4,
 "nbformat_minor": 2
}
